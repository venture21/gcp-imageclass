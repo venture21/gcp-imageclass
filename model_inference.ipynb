{
 "cells": [
  {
   "cell_type": "markdown",
   "id": "00ddd3b2-8a95-4288-a26a-c93ba0b21908",
   "metadata": {},
   "source": [
    "### 참조 사이트 : https://github.com/googleapis/python-aiplatform/blob/main/samples/snippets/prediction_service/predict_image_classification_sample.py"
   ]
  },
  {
   "cell_type": "code",
   "execution_count": 47,
   "id": "4b046600-dba1-4e21-b738-815ff890fe35",
   "metadata": {
    "tags": []
   },
   "outputs": [],
   "source": [
    "IMAGE_PATH = \"/home/jupyter/cat.jpg\""
   ]
  },
  {
   "cell_type": "code",
   "execution_count": 72,
   "id": "27501eeb-b2b1-43d4-ba29-a63715e3f1e5",
   "metadata": {
    "tags": []
   },
   "outputs": [],
   "source": [
    "import base64\n",
    "\n",
    "from google.cloud import aiplatform\n",
    "from google.cloud.aiplatform.gapic.schema import predict\n",
    "\n",
    "def predict_image_classification_sample(\n",
    "    project: str,\n",
    "    endpoint_id: str,\n",
    "    filename: str,\n",
    "    location: str = \"us-central1\",\n",
    "    api_endpoint: str = \"us-central1-aiplatform.googleapis.com\",\n",
    "):\n",
    "    # The AI Platform services require regional API endpoints.\n",
    "    client_options = {\"api_endpoint\": api_endpoint}\n",
    "    # Initialize client that will be used to create and send requests.\n",
    "    # This client only needs to be created once, and can be reused for multiple requests.\n",
    "    client = aiplatform.gapic.PredictionServiceClient(client_options=client_options)\n",
    "    with open(filename, \"rb\") as f:\n",
    "        file_content = f.read()\n",
    "\n",
    "    # The format of each instance should conform to the deployed model's prediction input schema.\n",
    "    encoded_content = base64.b64encode(file_content).decode(\"utf-8\")\n",
    "    instance = predict.instance.ImageClassificationPredictionInstance(\n",
    "        content=encoded_content,\n",
    "    ).to_value()\n",
    "    instances = [instance]\n",
    "    # See gs://google-cloud-aiplatform/schema/predict/params/image_classification_1.0.0.yaml for the format of the parameters.\n",
    "    parameters = predict.params.ImageClassificationPredictionParams(\n",
    "        confidence_threshold=0.5,\n",
    "        max_predictions=5,\n",
    "    ).to_value()\n",
    "    endpoint = client.endpoint_path(\n",
    "        project=project, location=location, endpoint=endpoint_id\n",
    "    )\n",
    "    response = client.predict(\n",
    "        endpoint=endpoint, instances=instances, parameters=parameters\n",
    "    )\n",
    "    print(\"response\")\n",
    "    print(\" deployed_model_id:\", response.deployed_model_id)\n",
    "    # See gs://google-cloud-aiplatform/schema/predict/prediction/image_classification_1.0.0.yaml for the format of the predictions.\n",
    "    predictions = response.predictions\n",
    "    for prediction in predictions:\n",
    "        print(\" prediction:\", dict(prediction))\n"
   ]
  },
  {
   "cell_type": "code",
   "execution_count": 73,
   "id": "bea877fb-3a5f-4647-b5b9-c2bc37c757ad",
   "metadata": {
    "tags": []
   },
   "outputs": [
    {
     "name": "stdout",
     "output_type": "stream",
     "text": [
      "response\n",
      " deployed_model_id: 913252159007490048\n",
      " prediction: {'confidences': [0.951833844], 'ids': ['1557212205017989120'], 'displayNames': ['cat']}\n"
     ]
    }
   ],
   "source": [
    "predict_image_classification_sample(\n",
    "    project=\"959298622983\",\n",
    "    endpoint_id=\"4467836912165453824\",\n",
    "    location=\"us-central1\",\n",
    "    filename=IMAGE_PATH\n",
    ")"
   ]
  },
  {
   "cell_type": "code",
   "execution_count": 36,
   "id": "f3fe6973-c804-4e2b-bb70-96d746af372a",
   "metadata": {
    "tags": []
   },
   "outputs": [],
   "source": [
    "#"
   ]
  },
  {
   "cell_type": "markdown",
   "id": "2ae71022-c83f-4302-96bf-251f77e9bca0",
   "metadata": {},
   "source": [
    "## 일괄 예측"
   ]
  },
  {
   "cell_type": "code",
   "execution_count": 59,
   "id": "0a9b9bb9-2c05-448d-889d-e8fad477e2a8",
   "metadata": {
    "tags": []
   },
   "outputs": [
    {
     "name": "stdout",
     "output_type": "stream",
     "text": [
      "Copying file://test-data.json [Content-Type=application/json]...\n",
      "/ [1 files][286.6 KiB/286.6 KiB]                                                \n",
      "Operation completed over 1 objects/286.6 KiB.                                    \n"
     ]
    }
   ],
   "source": [
    "import json\n",
    "with open('test-data.json', 'w') as fp:\n",
    "    json.dump(x_test, fp)\n",
    "\n",
    "!gsutil cp test-data.json gs://kaggle-data-upload"
   ]
  },
  {
   "cell_type": "code",
   "execution_count": 60,
   "id": "e5a54eda-5016-4878-8ab5-02f7928bbbc3",
   "metadata": {
    "tags": []
   },
   "outputs": [],
   "source": [
    "my_model=aiplatform.Model(\"projects/959298622983/locations/us-central1/models/3539563225299288064\")"
   ]
  },
  {
   "cell_type": "code",
   "execution_count": null,
   "id": "41af3664-7d68-4cee-9371-f6ba4096966f",
   "metadata": {},
   "outputs": [],
   "source": [
    "batch_prediction_job = my_model.batch_predict(\n",
    "    job_display_name='dog-cat_batch_predict',\n",
    "    gcs_source='gs://kaggle-data/test-data.json',\n",
    "    gcs_destination_prefix='gs://{YOUR_BUCKET}/prediction-results',\n",
    "    machine_type='n1-standard-4',)"
   ]
  },
  {
   "cell_type": "code",
   "execution_count": null,
   "id": "4b89059c-5867-4c1a-b30f-67cd5e797ead",
   "metadata": {},
   "outputs": [],
   "source": []
  }
 ],
 "metadata": {
  "environment": {
   "kernel": "python3",
   "name": "tf2-cpu.2-11.m113",
   "type": "gcloud",
   "uri": "gcr.io/deeplearning-platform-release/tf2-cpu.2-11:m113"
  },
  "kernelspec": {
   "display_name": "Python 3",
   "language": "python",
   "name": "python3"
  },
  "language_info": {
   "codemirror_mode": {
    "name": "ipython",
    "version": 3
   },
   "file_extension": ".py",
   "mimetype": "text/x-python",
   "name": "python",
   "nbconvert_exporter": "python",
   "pygments_lexer": "ipython3",
   "version": "3.10.13"
  }
 },
 "nbformat": 4,
 "nbformat_minor": 5
}
