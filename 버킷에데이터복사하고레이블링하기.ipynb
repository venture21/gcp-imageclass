{
 "cells": [
  {
   "cell_type": "markdown",
   "id": "1894a593-6bc5-4a84-92b3-b3c5a81e3fce",
   "metadata": {},
   "source": [
    "## 이미지 분류를 위한 버킷에 데이터 복사하고 레이블링하기"
   ]
  },
  {
   "cell_type": "code",
   "execution_count": 110,
   "id": "e0257b49-e1a4-4412-88d6-fbd29697c488",
   "metadata": {
    "tags": []
   },
   "outputs": [
    {
     "name": "stdout",
     "output_type": "stream",
     "text": [
      "/home/jupyter\n"
     ]
    }
   ],
   "source": [
    "import os\n",
    "%cd ~/\n",
    "HOME=os.getcwd()"
   ]
  },
  {
   "cell_type": "code",
   "execution_count": 111,
   "id": "6012091b-10b4-498a-a8d7-f093c9fe1eda",
   "metadata": {
    "tags": []
   },
   "outputs": [
    {
     "name": "stdout",
     "output_type": "stream",
     "text": [
      "/home/jupyter/dataset\n",
      "Archive:  dogs-vs-cats.zip\n",
      "replace sampleSubmission.csv? [y]es, [n]o, [A]ll, [N]one, [r]ename: ^C\n"
     ]
    }
   ],
   "source": [
    "%cd dataset\n",
    "!unzip dogs-vs-cats.zip"
   ]
  },
  {
   "cell_type": "code",
   "execution_count": 112,
   "id": "b5aa7032-7dd2-4167-8fa2-de5b8243d4ac",
   "metadata": {
    "tags": []
   },
   "outputs": [
    {
     "name": "stdout",
     "output_type": "stream",
     "text": [
      "Archive:  train.zip\n",
      "replace train/cat.0.jpg? [y]es, [n]o, [A]ll, [N]one, [r]ename: ^C\n"
     ]
    }
   ],
   "source": [
    "!unzip train.zip"
   ]
  },
  {
   "cell_type": "code",
   "execution_count": 113,
   "id": "d5db5296-15bb-4823-b711-a4cbf214a517",
   "metadata": {
    "tags": []
   },
   "outputs": [
    {
     "name": "stdout",
     "output_type": "stream",
     "text": [
      "/home/jupyter/dataset/train\n"
     ]
    }
   ],
   "source": [
    "%cd train"
   ]
  },
  {
   "cell_type": "code",
   "execution_count": 114,
   "id": "8478d918-9141-4d2c-8f43-c80f596f08ac",
   "metadata": {
    "tags": []
   },
   "outputs": [
    {
     "name": "stdout",
     "output_type": "stream",
     "text": [
      "{\"time\":\"27/11/2023 02:18:47.125064\",\"severity\":\"INFO\",\"msg\":\"Start gcsfuse/1.2.0 (Go version go1.21.0) for app \\\"\\\" using mount point: /home/jupyter/bucket\\n\"}\n",
      "daemonize.Run: readFromProcess: sub-process: mountWithArgs: mountWithStorageHandle: Mount: mount: running /usr/bin/fusermount: exit status 1\n"
     ]
    }
   ],
   "source": [
    "BUCKET_NAME='kaggle-data-upload'\n",
    "MOUNT_PATH ='/home/jupyter/bucket' \n",
    "!gcsfuse --implicit-dirs {BUCKET_NAME} {MOUNT_PATH}"
   ]
  },
  {
   "cell_type": "code",
   "execution_count": 115,
   "id": "e3382e64-e11f-4bf0-a672-5cd6f608e939",
   "metadata": {
    "tags": []
   },
   "outputs": [],
   "source": [
    "train_size = 1000\n",
    "valid_size = 500\n",
    "test_size  = 500\n",
    "\n",
    "train_index_end = train_size\n",
    "valid_index_end = train_size + valid_size\n",
    "test_index_end  = train_size + valid_size + test_size"
   ]
  },
  {
   "cell_type": "markdown",
   "id": "a77446c7-5670-4200-8e09-45d417b22ff8",
   "metadata": {},
   "source": [
    "## gcsfuse로 마운트하고 복사하기 : 4000장 이미지 복사하는데 5분 소요"
   ]
  },
  {
   "cell_type": "markdown",
   "id": "2f103ecc-daf0-4d02-91cb-7008ad38d45b",
   "metadata": {},
   "source": [
    "## 그래서, vm에 small 데이터셋 디렉토리를 먼저 생성 후 디렉토리를 통채로 복사하는 것으로 실행"
   ]
  },
  {
   "cell_type": "code",
   "execution_count": 116,
   "id": "57d8a660-cacf-46cc-9cd8-8a09fe5fcf34",
   "metadata": {
    "tags": []
   },
   "outputs": [
    {
     "name": "stdout",
     "output_type": "stream",
     "text": [
      "train_dataset\n"
     ]
    },
    {
     "data": {
      "application/vnd.jupyter.widget-view+json": {
       "model_id": "3629419558d948219049b59fb5222d08",
       "version_major": 2,
       "version_minor": 0
      },
      "text/plain": [
       "outer:   0%|          | 0/2 [00:00<?, ?it/s]"
      ]
     },
     "metadata": {},
     "output_type": "display_data"
    },
    {
     "data": {
      "application/vnd.jupyter.widget-view+json": {
       "model_id": "76135a492b194f568bd1bdfccb90d8bf",
       "version_major": 2,
       "version_minor": 0
      },
      "text/plain": [
       "inner:   0%|          | 0/1000 [00:00<?, ?it/s]"
      ]
     },
     "metadata": {},
     "output_type": "display_data"
    },
    {
     "ename": "KeyboardInterrupt",
     "evalue": "",
     "output_type": "error",
     "traceback": [
      "\u001b[0;31m---------------------------------------------------------------------------\u001b[0m",
      "\u001b[0;31mKeyboardInterrupt\u001b[0m                         Traceback (most recent call last)",
      "File \u001b[0;32m<timed exec>:24\u001b[0m\n",
      "File \u001b[0;32m<timed exec>:20\u001b[0m, in \u001b[0;36mmake_subset\u001b[0;34m(subset_name, start_index, end_index)\u001b[0m\n",
      "File \u001b[0;32m/opt/conda/lib/python3.10/shutil.py:256\u001b[0m, in \u001b[0;36mcopyfile\u001b[0;34m(src, dst, follow_symlinks)\u001b[0m\n\u001b[1;32m    254\u001b[0m \u001b[38;5;28;01mwith\u001b[39;00m \u001b[38;5;28mopen\u001b[39m(src, \u001b[38;5;124m'\u001b[39m\u001b[38;5;124mrb\u001b[39m\u001b[38;5;124m'\u001b[39m) \u001b[38;5;28;01mas\u001b[39;00m fsrc:\n\u001b[1;32m    255\u001b[0m     \u001b[38;5;28;01mtry\u001b[39;00m:\n\u001b[0;32m--> 256\u001b[0m         \u001b[38;5;28;01mwith\u001b[39;00m \u001b[38;5;28mopen\u001b[39m(dst, \u001b[38;5;124m'\u001b[39m\u001b[38;5;124mwb\u001b[39m\u001b[38;5;124m'\u001b[39m) \u001b[38;5;28;01mas\u001b[39;00m fdst:\n\u001b[1;32m    257\u001b[0m             \u001b[38;5;66;03m# macOS\u001b[39;00m\n\u001b[1;32m    258\u001b[0m             \u001b[38;5;28;01mif\u001b[39;00m _HAS_FCOPYFILE:\n\u001b[1;32m    259\u001b[0m                 \u001b[38;5;28;01mtry\u001b[39;00m:\n",
      "\u001b[0;31mKeyboardInterrupt\u001b[0m: "
     ]
    }
   ],
   "source": [
    "%%time\n",
    "import os, shutil, pathlib\n",
    "from tqdm.notebook import tqdm\n",
    "from tensorflow.keras.utils import image_dataset_from_directory\n",
    "\n",
    "IMG_SIZE = 224\n",
    "BATCH_SIZE = 32\n",
    "\n",
    "# 다운받은 데이터셋 디렉토리와 마운트된 버킷의 경로를 설정한다. \n",
    "original_dir = pathlib.Path(os.path.join(HOME,\"dataset/train\"))\n",
    "# 로컬 디스크에 복사\n",
    "new_base_dir = pathlib.Path(os.path.join(HOME, \"dataset/cats_vs_dogs_small\"))\n",
    "#버킷에 직접 업로드\n",
    "#new_base_dir = pathlib.Path(os.path.join(HOME, \"bucket/cats_vs_dogs_small\"))\n",
    "\n",
    "def make_subset(subset_name, start_index, end_index):\n",
    "    for category in tqdm([\"cat\", \"dog\"], desc='outer', position=0):\n",
    "        dir = new_base_dir / subset_name / category\n",
    "        os.makedirs(dir)\n",
    "        fnames = [f\"{category}.{i}.jpg\" for i in range(start_index, end_index)]\n",
    "        \n",
    "        for fname in tqdm(fnames, desc='inner', position=1):\n",
    "            shutil.copyfile(src=original_dir / fname,\n",
    "                            dst=dir / fname)\n",
    "            \n",
    "print(\"train_dataset\")\n",
    "make_subset(\"train\", start_index=0, end_index=train_index_end)\n",
    "\n",
    "print(\"valid_dataset\")\n",
    "make_subset(\"valid\", start_index=train_index_end, end_index=valid_index_end)\n",
    "\n",
    "print(\"valid_dataset\")\n",
    "make_subset(\"test\", start_index=valid_index_end, end_index=test_index_end)\n",
    "\n",
    "\n",
    "train_dataset = image_dataset_from_directory(\n",
    "    new_base_dir / \"train\",\n",
    "    image_size=(IMG_SIZE, IMG_SIZE),\n",
    "    batch_size=BATCH_SIZE)\n",
    "validation_dataset = image_dataset_from_directory(\n",
    "    new_base_dir / \"valid\",\n",
    "    image_size=(IMG_SIZE, IMG_SIZE),\n",
    "    batch_size=BATCH_SIZE)\n",
    "test_dataset = image_dataset_from_directory(\n",
    "    new_base_dir / \"test\",\n",
    "    image_size=(IMG_SIZE, IMG_SIZE),\n",
    "    batch_size=BATCH_SIZE)"
   ]
  },
  {
   "cell_type": "markdown",
   "id": "4026c541-d547-48a8-8a72-c15a91ccb229",
   "metadata": {},
   "source": [
    "## gsutil로 복사하는데 48초 소요"
   ]
  },
  {
   "cell_type": "code",
   "execution_count": 100,
   "id": "7e5a2827-b137-4629-a9ba-b7a4054e6a9a",
   "metadata": {
    "tags": []
   },
   "outputs": [],
   "source": [
    "GS_URI = 'gs://kaggle-data-upload'"
   ]
  },
  {
   "cell_type": "code",
   "execution_count": 102,
   "id": "c24bfac5-cd66-49ae-8c7b-e08ba316e03f",
   "metadata": {
    "tags": []
   },
   "outputs": [],
   "source": [
    "%%time\n",
    "!gsutil -m cp -r /home/jupyter/dataset/cats_vs_dogs_small/* gs://kaggle-data-upload"
   ]
  },
  {
   "cell_type": "markdown",
   "id": "e58e712a-51f5-4ecb-9cec-1cd87601d847",
   "metadata": {},
   "source": [
    "## 파일명으로 이미지 레이블링하고 데이터 프레임 만들기"
   ]
  },
  {
   "cell_type": "code",
   "execution_count": 104,
   "id": "670114e4-72e3-43eb-9cc4-fd52ca0732fa",
   "metadata": {},
   "outputs": [
    {
     "name": "stdout",
     "output_type": "stream",
     "text": [
      "4000\n"
     ]
    },
    {
     "data": {
      "text/html": [
       "<div>\n",
       "<style scoped>\n",
       "    .dataframe tbody tr th:only-of-type {\n",
       "        vertical-align: middle;\n",
       "    }\n",
       "\n",
       "    .dataframe tbody tr th {\n",
       "        vertical-align: top;\n",
       "    }\n",
       "\n",
       "    .dataframe thead th {\n",
       "        text-align: right;\n",
       "    }\n",
       "</style>\n",
       "<table border=\"1\" class=\"dataframe\">\n",
       "  <thead>\n",
       "    <tr style=\"text-align: right;\">\n",
       "      <th></th>\n",
       "      <th>bucketPath</th>\n",
       "      <th>target</th>\n",
       "    </tr>\n",
       "  </thead>\n",
       "  <tbody>\n",
       "    <tr>\n",
       "      <th>0</th>\n",
       "      <td>gs://kaggle-data-upload/train/cat/cat.742.jpg</td>\n",
       "      <td>cat</td>\n",
       "    </tr>\n",
       "    <tr>\n",
       "      <th>1</th>\n",
       "      <td>gs://kaggle-data-upload/train/cat/cat.314.jpg</td>\n",
       "      <td>cat</td>\n",
       "    </tr>\n",
       "    <tr>\n",
       "      <th>2</th>\n",
       "      <td>gs://kaggle-data-upload/train/cat/cat.707.jpg</td>\n",
       "      <td>cat</td>\n",
       "    </tr>\n",
       "    <tr>\n",
       "      <th>3</th>\n",
       "      <td>gs://kaggle-data-upload/train/cat/cat.347.jpg</td>\n",
       "      <td>cat</td>\n",
       "    </tr>\n",
       "    <tr>\n",
       "      <th>4</th>\n",
       "      <td>gs://kaggle-data-upload/train/cat/cat.966.jpg</td>\n",
       "      <td>cat</td>\n",
       "    </tr>\n",
       "    <tr>\n",
       "      <th>...</th>\n",
       "      <td>...</td>\n",
       "      <td>...</td>\n",
       "    </tr>\n",
       "    <tr>\n",
       "      <th>3995</th>\n",
       "      <td>gs://kaggle-data-upload/test/dog/dog.1826.jpg</td>\n",
       "      <td>dog</td>\n",
       "    </tr>\n",
       "    <tr>\n",
       "      <th>3996</th>\n",
       "      <td>gs://kaggle-data-upload/test/dog/dog.1522.jpg</td>\n",
       "      <td>dog</td>\n",
       "    </tr>\n",
       "    <tr>\n",
       "      <th>3997</th>\n",
       "      <td>gs://kaggle-data-upload/test/dog/dog.1882.jpg</td>\n",
       "      <td>dog</td>\n",
       "    </tr>\n",
       "    <tr>\n",
       "      <th>3998</th>\n",
       "      <td>gs://kaggle-data-upload/test/dog/dog.1717.jpg</td>\n",
       "      <td>dog</td>\n",
       "    </tr>\n",
       "    <tr>\n",
       "      <th>3999</th>\n",
       "      <td>gs://kaggle-data-upload/test/dog/dog.1930.jpg</td>\n",
       "      <td>dog</td>\n",
       "    </tr>\n",
       "  </tbody>\n",
       "</table>\n",
       "<p>4000 rows × 2 columns</p>\n",
       "</div>"
      ],
      "text/plain": [
       "                                         bucketPath target\n",
       "0     gs://kaggle-data-upload/train/cat/cat.742.jpg    cat\n",
       "1     gs://kaggle-data-upload/train/cat/cat.314.jpg    cat\n",
       "2     gs://kaggle-data-upload/train/cat/cat.707.jpg    cat\n",
       "3     gs://kaggle-data-upload/train/cat/cat.347.jpg    cat\n",
       "4     gs://kaggle-data-upload/train/cat/cat.966.jpg    cat\n",
       "...                                             ...    ...\n",
       "3995  gs://kaggle-data-upload/test/dog/dog.1826.jpg    dog\n",
       "3996  gs://kaggle-data-upload/test/dog/dog.1522.jpg    dog\n",
       "3997  gs://kaggle-data-upload/test/dog/dog.1882.jpg    dog\n",
       "3998  gs://kaggle-data-upload/test/dog/dog.1717.jpg    dog\n",
       "3999  gs://kaggle-data-upload/test/dog/dog.1930.jpg    dog\n",
       "\n",
       "[4000 rows x 2 columns]"
      ]
     },
     "execution_count": 104,
     "metadata": {},
     "output_type": "execute_result"
    }
   ],
   "source": [
    "import pandas as pd\n",
    "from glob import glob\n",
    "imgPath = '/home/jupyter/dataset/cats_vs_dogs_small/'\n",
    "trainimages = glob(os.path.join(imgPath,\"train/**/*.jpg\"), recursive=True)\n",
    "validimages = glob(os.path.join(imgPath,\"valid/**/*.jpg\"), recursive=True)\n",
    "testimages = glob(os.path.join(imgPath,\"test/**/*.jpg\"), recursive=True)\n",
    "allimages = trainimages + validimages + testimages\n",
    "print(len(allimages))\n",
    "bucketPath=[]\n",
    "target=[]\n",
    "\n",
    "for imageFile in allimages:\n",
    "    class_name = os.path.basename(imageFile).split('.')[0]\n",
    "    target.append(class_name)\n",
    "    \n",
    "    GS_URI = 'gs://kaggle-data-upload'\n",
    "    bucketPath.append(GS_URI+ imageFile.split('small')[1]) \n",
    "\n",
    "len(target)\n",
    "df = pd.DataFrame(data=bucketPath)\n",
    "df['target'] = target\n",
    "df.columns=['bucketPath','target']\n",
    "df\n",
    "#gs://kaggle-data-upload/train/dog/dog.0.jpg"
   ]
  },
  {
   "cell_type": "code",
   "execution_count": 108,
   "id": "ad2ff5be-a48d-4873-8ee4-924ec8587c20",
   "metadata": {
    "tags": []
   },
   "outputs": [],
   "source": [
    "df.to_csv('/home/jupyter/data.csv',index=False, header=False)"
   ]
  },
  {
   "cell_type": "code",
   "execution_count": 109,
   "id": "12528891-3955-4d07-88c1-91d779e55871",
   "metadata": {
    "tags": []
   },
   "outputs": [
    {
     "name": "stdout",
     "output_type": "stream",
     "text": [
      "cp: cannot create regular file 'bucket/data.csv': No such file or directory\n"
     ]
    }
   ],
   "source": [
    "!cp /home/jupyter/data.csv bucket/data.csv"
   ]
  },
  {
   "cell_type": "code",
   "execution_count": null,
   "id": "f149e693-2749-4845-8a38-2dcf317358cd",
   "metadata": {},
   "outputs": [],
   "source": []
  }
 ],
 "metadata": {
  "environment": {
   "kernel": "python3",
   "name": "tf2-cpu.2-11.m113",
   "type": "gcloud",
   "uri": "gcr.io/deeplearning-platform-release/tf2-cpu.2-11:m113"
  },
  "kernelspec": {
   "display_name": "Python 3",
   "language": "python",
   "name": "python3"
  },
  "language_info": {
   "codemirror_mode": {
    "name": "ipython",
    "version": 3
   },
   "file_extension": ".py",
   "mimetype": "text/x-python",
   "name": "python",
   "nbconvert_exporter": "python",
   "pygments_lexer": "ipython3",
   "version": "3.10.13"
  }
 },
 "nbformat": 4,
 "nbformat_minor": 5
}
